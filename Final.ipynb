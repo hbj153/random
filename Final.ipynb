{
 "cells": [
  {
   "cell_type": "code",
   "execution_count": null,
   "metadata": {},
   "outputs": [],
   "source": []
  },
  {
   "attachments": {},
   "cell_type": "markdown",
   "metadata": {},
   "source": [
    "# Tools for Data Science - Final Assignment"
   ]
  },
  {
   "attachments": {},
   "cell_type": "markdown",
   "metadata": {},
   "source": [
    "Introduction of Data Science:\n",
    "\n",
    "Data Science is an interdisciplinary field that involves the use of statistical, computational, and data analysis techniques to extract insights and knowledge from structured and unstructured data. It is a combination of various fields such as statistics, mathematics, computer science, and domain expertise, and has applications in various industries such as healthcare, finance, marketing, and e-commerce.\n",
    "\n"
   ]
  },
  {
   "attachments": {},
   "cell_type": "markdown",
   "metadata": {},
   "source": [
    "Popular data science languages:\n",
    "\n",
    "- Python\n",
    "- R\n",
    "- SQL\n",
    "- Julia\n",
    "- SAS\n",
    "- MATLAB\n",
    "\n",
    "Note: This is not an exhaustive list and there are other programming languages that can be used in data science as well."
   ]
  },
  {
   "attachments": {},
   "cell_type": "markdown",
   "metadata": {},
   "source": [
    "Popular data science libraries:\n",
    "\n",
    "- NumPy\n",
    "- Pandas\n",
    "- Matplotlib\n",
    "- Scikit-learn\n",
    "- TensorFlow\n",
    "- PyTorch\n",
    "- Keras\n",
    "- Seaborn\n",
    "- Plotly\n",
    "- NLTK"
   ]
  },
  {
   "attachments": {},
   "cell_type": "markdown",
   "metadata": {},
   "source": [
    "| Tool | Description |\n",
    "|------|-------------|\n",
    "| Python | A general-purpose programming language with a variety of data science libraries such as NumPy, Pandas, Scikit-Learn, TensorFlow, and PyTorch. |\n",
    "| R | A programming language specifically designed for statistical computing and graphics. Popular data science libraries in R include ggplot2, dplyr, tidyr, and caret. |\n",
    "| SQL | A language used for managing and querying data in relational databases. |\n",
    "| Tableau | A data visualization and business intelligence tool that allows users to connect, visualize, and share data in interactive dashboards and reports. |\n",
    "| Apache Spark | A big data processing framework that provides a fast and unified analytics engine for large-scale data processing. |\n",
    "| MATLAB | A numerical computing environment and programming language widely used in scientific research, engineering, and finance. |\n",
    "| Excel | A spreadsheet program used for data analysis and visualization. |\n"
   ]
  },
  {
   "attachments": {},
   "cell_type": "markdown",
   "metadata": {},
   "source": [
    "Arithmetic expressions are a fundamental aspect of mathematics and programming. In data science, arithmetic expressions are commonly used for calculations, data manipulation, and analysis. These expressions involve mathematical operators such as addition, subtraction, multiplication, and division, as well as parentheses and other symbols. By combining these elements, it is possible to create complex expressions that can help to solve problems and gain insights from data. In this context, arithmetic expressions are a powerful tool that data scientists can use to extract meaning and knowledge from raw data."
   ]
  },
  {
   "cell_type": "code",
   "execution_count": 1,
   "metadata": {},
   "outputs": [
    {
     "data": {
      "text/plain": [
       "10000"
      ]
     },
     "execution_count": 1,
     "metadata": {},
     "output_type": "execute_result"
    }
   ],
   "source": [
    "1 * 9999\n",
    "1 + 9999"
   ]
  },
  {
   "cell_type": "code",
   "execution_count": 2,
   "metadata": {},
   "outputs": [
    {
     "name": "stdout",
     "output_type": "stream",
     "text": [
      "2.0\n"
     ]
    }
   ],
   "source": [
    "minutes = 120\n",
    "hours = minutes / 60\n",
    "print(hours)\n"
   ]
  },
  {
   "attachments": {},
   "cell_type": "markdown",
   "metadata": {},
   "source": [
    "Objectives\n",
    "\n",
    "- Understand the basics of Data Science\n",
    "- Learn common Data Science tools and libraries\n",
    "- Build skills in data cleaning, manipulation, and visualization\n",
    "- Gain experience with machine learning algorithms\n",
    "- Apply Data Science techniques to real-world problems"
   ]
  },
  {
   "attachments": {},
   "cell_type": "markdown",
   "metadata": {},
   "source": [
    "Author Name: Cathy"
   ]
  },
  {
   "cell_type": "markdown",
   "metadata": {},
   "source": []
  }
 ],
 "metadata": {
  "kernelspec": {
   "display_name": "py311",
   "language": "python",
   "name": "python3"
  },
  "language_info": {
   "codemirror_mode": {
    "name": "ipython",
    "version": 3
   },
   "file_extension": ".py",
   "mimetype": "text/x-python",
   "name": "python",
   "nbconvert_exporter": "python",
   "pygments_lexer": "ipython3",
   "version": "3.11.0"
  },
  "orig_nbformat": 4
 },
 "nbformat": 4,
 "nbformat_minor": 2
}
